{
 "cells": [
  {
   "cell_type": "code",
   "execution_count": 1,
   "metadata": {},
   "outputs": [
    {
     "name": "stdout",
     "output_type": "stream",
     "text": [
      "Populating the interactive namespace from numpy and matplotlib\n"
     ]
    }
   ],
   "source": [
    "%pylab inline"
   ]
  },
  {
   "cell_type": "code",
   "execution_count": 2,
   "metadata": {},
   "outputs": [],
   "source": [
    "import seaborn as sns\n",
    "from collections import Counter"
   ]
  },
  {
   "cell_type": "code",
   "execution_count": 31,
   "metadata": {},
   "outputs": [],
   "source": [
    "def dupdiwoop(path):\n",
    "    with open(path) as f:\n",
    "        s1 = f.readlines()\n",
    "        freqs = Counter(s1)\n",
    "        values =sorted(freqs.values(), reverse=True)\n",
    "        print(\"Number of sentences: {} \\nNumber of unique sentences: {}\".format(len(s1), len(set(s1))))\n",
    "        plt.hist(np.log(values))\n",
    "        print(freqs.most_common(10))"
   ]
  },
  {
   "cell_type": "code",
   "execution_count": 32,
   "metadata": {},
   "outputs": [
    {
     "name": "stdout",
     "output_type": "stream",
     "text": [
      "Number of sentences: 566435 \n",
      "Number of unique sentences: 57791\n",
      "[('eine schaut aus dem badezimmer heraus .\\n', 5238), ('ein gedeckter tisch mit dessert .\\n', 4668), ('ein wohnzimmer mit zwei braunen sofas und einem couchtisch voller katen und papieren .\\n', 3750), ('ein zug fährt die schienen entlang .\\n', 3159), ('einen pizzabäcker , der hinter einer pizza steht .\\n', 2812), ('einen tisch , auf dem essen steht .\\n', 2315), ('ein mann steht mit einer kaffeetasse und einer klobürste an einem urinal .\\n', 1973), ('der mann spielt tennis und hechten nach dem ball .\\n', 1825), ('der indersteht in einer küche am herd vor dem fenster\\n', 1782), ('ein flugzeug fliegt qualmend und um sturzflug durch die luft .\\n', 1660)]\n"
     ]
    },
    {
     "data": {
      "image/png": "[encoded data removed]",
      "text/plain": [
       "<Figure size 432x288 with 1 Axes>"
      ]
     },
     "metadata": {},
     "output_type": "display_data"
    }
   ],
   "source": [
    "dupdiwoop(\"/roaming/u1257964/LASTCHAPTER/endecoco_c2c_test/112/m30kde_coco.txt\")"
   ]
  },
  {
   "cell_type": "code",
   "execution_count": 33,
   "metadata": {},
   "outputs": [
    {
     "name": "stdout",
     "output_type": "stream",
     "text": [
      "Number of sentences: 566435 \n",
      "Number of unique sentences: 58012\n",
      "[('eine schaut aus dem badezimmer heraus .\\n', 4469), ('einen pizzabäcker , der hinter einer pizza steht .\\n', 3420), ('ein wohnzimmer mit zwei braunen sofas und einem couchtisch voller katen und papieren .\\n', 3145), ('ein gedeckter tisch mit dessert .\\n', 2463), ('blick aus einem bus auf die straße einer stadt\\n', 2023), ('ein zug fährt die schienen entlang .\\n', 2013), ('ein mann beißt in ein sandwich .\\n', 1883), ('ein flugzeug fliegt qualmend und um sturzflug durch die luft .\\n', 1706), ('mehrere spieße mit gemüse und fleisch liegen auf einem grillrost\\n', 1704), ('der indersteht in einer küche am herd vor dem fenster\\n', 1633)]\n"
     ]
    },
    {
     "data": {
      "image/png": "[encoded data removed]",
      "text/plain": [
       "<Figure size 432x288 with 1 Axes>"
      ]
     },
     "metadata": {},
     "output_type": "display_data"
    }
   ],
   "source": [
    "dupdiwoop(\"/roaming/u1257964/LASTCHAPTER/endecoco_c2c_test/1865//m30kde_coco.txt\")"
   ]
  },
  {
   "cell_type": "code",
   "execution_count": 35,
   "metadata": {},
   "outputs": [
    {
     "name": "stdout",
     "output_type": "stream",
     "text": [
      "Number of sentences: 566435 \n",
      "Number of unique sentences: 53230\n",
      "[('ein batter schlägt einen baseball .\\n', 4017), ('ein mann beim tennis\\n', 3658), ('ein mann beißt in ein sandwich .\\n', 3280), ('ein mann auf einem kite in der luft .\\n', 3134), ('ein zug fährt die schienen entlang .\\n', 2707), ('zwei männer spielen an der wii\\n', 2646), ('ein junge isst eine pizza .\\n', 2111), ('ein flugzeug fliegt durch die luft .\\n', 2073), ('eine frau putzt das waschbecken und blickt dabei in den spiegel .\\n', 1997), ('ein wohnzimmer mit zwei braunen sofas und einem couchtisch voller katen und papieren .\\n', 1920)]\n"
     ]
    },
    {
     "data": {
      "image/png": "[encoded data removed]",
      "text/plain": [
       "<Figure size 432x288 with 1 Axes>"
      ]
     },
     "metadata": {},
     "output_type": "display_data"
    }
   ],
   "source": [
    "dupdiwoop(\"/roaming/u1257964/LASTCHAPTER/decoco/112/m30kde_coco.txt\")"
   ]
  },
  {
   "cell_type": "code",
   "execution_count": null,
   "metadata": {},
   "outputs": [],
   "source": []
  }
 ],
 "metadata": {
  "kernelspec": {
   "display_name": "Python 3",
   "language": "python",
   "name": "python3"
  },
  "language_info": {
   "codemirror_mode": {
    "name": "ipython",
    "version": 3
   },
   "file_extension": ".py",
   "mimetype": "text/x-python",
   "name": "python",
   "nbconvert_exporter": "python",
   "pygments_lexer": "ipython3",
   "version": "3.6.7"
  }
 },
 "nbformat": 4,
 "nbformat_minor": 2
}
